{
  "nbformat": 4,
  "nbformat_minor": 0,
  "metadata": {
    "colab": {
      "provenance": []
    },
    "kernelspec": {
      "name": "python3",
      "display_name": "Python 3"
    },
    "language_info": {
      "name": "python"
    }
  },
  "cells": [
    {
      "cell_type": "code",
      "execution_count": 1,
      "metadata": {
        "colab": {
          "base_uri": "https://localhost:8080/"
        },
        "id": "fUUz9sX5M-iZ",
        "outputId": "c237101e-58cc-446b-9b8e-41de101db7d7"
      },
      "outputs": [
        {
          "output_type": "stream",
          "name": "stdout",
          "text": [
            "\u001b[?25l     \u001b[90m━━━━━━━━━━━━━━━━━━━━━━━━━━━━━━━━━━━━━━━━\u001b[0m \u001b[32m0.0/803.2 kB\u001b[0m \u001b[31m?\u001b[0m eta \u001b[36m-:--:--\u001b[0m\r\u001b[2K     \u001b[91m━━━━━━━━━━━━━━━━━━━━━━━━━━━━━━━━━━━━━\u001b[0m\u001b[91m╸\u001b[0m \u001b[32m798.7/803.2 kB\u001b[0m \u001b[31m33.4 MB/s\u001b[0m eta \u001b[36m0:00:01\u001b[0m\r\u001b[2K     \u001b[90m━━━━━━━━━━━━━━━━━━━━━━━━━━━━━━━━━━━━━━\u001b[0m \u001b[32m803.2/803.2 kB\u001b[0m \u001b[31m16.9 MB/s\u001b[0m eta \u001b[36m0:00:00\u001b[0m\n",
            "\u001b[?25h  Installing build dependencies ... \u001b[?25l\u001b[?25hdone\n",
            "  Getting requirements to build wheel ... \u001b[?25l\u001b[?25hdone\n",
            "  Preparing metadata (pyproject.toml) ... \u001b[?25l\u001b[?25hdone\n",
            "\u001b[2K   \u001b[90m━━━━━━━━━━━━━━━━━━━━━━━━━━━━━━━━━━━━━━━━\u001b[0m \u001b[32m32.9/32.9 MB\u001b[0m \u001b[31m56.5 MB/s\u001b[0m eta \u001b[36m0:00:00\u001b[0m\n",
            "\u001b[2K   \u001b[90m━━━━━━━━━━━━━━━━━━━━━━━━━━━━━━━━━━━━━━━━\u001b[0m \u001b[32m98.2/98.2 kB\u001b[0m \u001b[31m6.7 MB/s\u001b[0m eta \u001b[36m0:00:00\u001b[0m\n",
            "\u001b[?25h  Building wheel for openai-whisper (pyproject.toml) ... \u001b[?25l\u001b[?25hdone\n",
            "✅ Environment ready for Voice Interaction.\n"
          ]
        }
      ],
      "source": [
        "#@title ✅ Install dependencies\n",
        "!pip -q install SpeechRecognition pydub gTTS soundfile openai-whisper requests\n",
        "import os, io, time, requests\n",
        "from typing import Dict\n",
        "print(\"✅ Environment ready for Voice Interaction.\")\n"
      ]
    },
    {
      "cell_type": "code",
      "source": [
        "#@title 🎧 Create a sample voice input for testing\n",
        "from gtts import gTTS\n",
        "import soundfile as sf\n",
        "import io\n",
        "import numpy as np\n",
        "import os\n",
        "\n",
        "text = \"Hello FinSynth, can you summarize the recent stock market trend for me?\"\n",
        "tts = gTTS(text)\n",
        "tts.save(\"sample.mp3\")\n",
        "\n",
        "# Convert MP3 → WAV so Whisper/SpeechRecognition can use it\n",
        "import pydub\n",
        "audio = pydub.AudioSegment.from_mp3(\"sample.mp3\")\n",
        "audio.export(\"sample.wav\", format=\"wav\")\n",
        "\n",
        "print(\"✅ Created sample.wav (use this as AUDIO_PATH)\")\n"
      ],
      "metadata": {
        "colab": {
          "base_uri": "https://localhost:8080/"
        },
        "id": "7LCjzis0Nms7",
        "outputId": "24b7c61b-23d2-4f9e-9d4c-e798c85c9430"
      },
      "execution_count": 7,
      "outputs": [
        {
          "output_type": "stream",
          "name": "stderr",
          "text": [
            "/usr/local/lib/python3.12/dist-packages/pydub/utils.py:300: SyntaxWarning: invalid escape sequence '\\('\n",
            "  m = re.match('([su]([0-9]{1,2})p?) \\(([0-9]{1,2}) bit\\)$', token)\n",
            "/usr/local/lib/python3.12/dist-packages/pydub/utils.py:301: SyntaxWarning: invalid escape sequence '\\('\n",
            "  m2 = re.match('([su]([0-9]{1,2})p?)( \\(default\\))?$', token)\n",
            "/usr/local/lib/python3.12/dist-packages/pydub/utils.py:310: SyntaxWarning: invalid escape sequence '\\('\n",
            "  elif re.match('(flt)p?( \\(default\\))?$', token):\n",
            "/usr/local/lib/python3.12/dist-packages/pydub/utils.py:314: SyntaxWarning: invalid escape sequence '\\('\n",
            "  elif re.match('(dbl)p?( \\(default\\))?$', token):\n"
          ]
        },
        {
          "output_type": "stream",
          "name": "stdout",
          "text": [
            "✅ Created sample.wav (use this as AUDIO_PATH)\n"
          ]
        }
      ]
    },
    {
      "cell_type": "code",
      "source": [
        "#@title ✅ Set your audio file (replace with mic input or uploaded file)\n",
        "AUDIO_PATH = \"sample.wav\"  # or path to your recorded audio file\n",
        "print(f\"AUDIO_PATH = {AUDIO_PATH}\")\n"
      ],
      "metadata": {
        "colab": {
          "base_uri": "https://localhost:8080/"
        },
        "id": "TaeE-l_lM_Rm",
        "outputId": "6419c4d9-d98c-436f-c21d-4cfa3e9c2097"
      },
      "execution_count": 9,
      "outputs": [
        {
          "output_type": "stream",
          "name": "stdout",
          "text": [
            "AUDIO_PATH = sample.wav\n"
          ]
        }
      ]
    },
    {
      "cell_type": "code",
      "source": [
        "#@title ✅ Transcribe voice → text\n",
        "def transcribe(audio_path: str) -> str:\n",
        "    \"\"\"\n",
        "    Transcribes user speech using Whisper (preferred) or Google SpeechRecognition.\n",
        "    \"\"\"\n",
        "    try:\n",
        "        import whisper\n",
        "        model = whisper.load_model(\"base\")\n",
        "        t0 = time.time()\n",
        "        result = model.transcribe(audio_path)\n",
        "        latency = round(time.time() - t0, 2)\n",
        "        print(f\"🕒 Whisper Transcription Latency: {latency}s\")\n",
        "        return result.get(\"text\", \"\").strip()\n",
        "    except Exception as e:\n",
        "        print(\"⚠️ Whisper failed, using SpeechRecognition instead:\", e)\n",
        "        import speech_recognition as sr\n",
        "        r = sr.Recognizer()\n",
        "        with sr.AudioFile(audio_path) as source:\n",
        "            audio = r.record(source)\n",
        "        return r.recognize_google(audio)\n"
      ],
      "metadata": {
        "id": "Hbj5clUSM_T1"
      },
      "execution_count": 10,
      "outputs": []
    },
    {
      "cell_type": "code",
      "source": [
        "#@title ✅ Connect to your FinSynth QA backend (FastAPI from Week 7)\n",
        "PROJECT_API = os.environ.get(\"PROJECT_API\", \"http://127.0.0.1:8000\")\n",
        "\n",
        "def run_project_llm(prompt: str) -> str:\n",
        "    \"\"\"\n",
        "    Sends the transcribed query to FinSynth's QA backend (Graph-RAG/Multi-Hop).\n",
        "    \"\"\"\n",
        "    try:\n",
        "        t0 = time.time()\n",
        "        r = requests.post(f\"{PROJECT_API}/qa\", json={\"text\": prompt}, timeout=30)\n",
        "        data = r.json()\n",
        "        latency = round(time.time() - t0, 2)\n",
        "        print(f\"🕒 Model Response Latency: {latency}s\")\n",
        "        return data.get(\"answer\", \"(no answer)\")\n",
        "    except Exception as e:\n",
        "        print(\"⚠️ Backend request failed:\", e)\n",
        "        return \"(model unavailable)\"\n"
      ],
      "metadata": {
        "id": "NKsRSzVkM_WA"
      },
      "execution_count": 11,
      "outputs": []
    },
    {
      "cell_type": "code",
      "source": [
        "#@title ✅ Convert LLM output → speech\n",
        "def synthesize_tts(text: str, out_path=\"reply.mp3\") -> str:\n",
        "    \"\"\"\n",
        "    Converts text response to speech using gTTS.\n",
        "    \"\"\"\n",
        "    try:\n",
        "        from gtts import gTTS\n",
        "        t0 = time.time()\n",
        "        gTTS(text).save(out_path)\n",
        "        latency = round(time.time() - t0, 2)\n",
        "        print(f\"🕒 TTS Generation Latency: {latency}s\")\n",
        "        return out_path\n",
        "    except Exception as e:\n",
        "        print(\"❌ TTS failed:\", e)\n",
        "        return \"\"\n"
      ],
      "metadata": {
        "id": "lBI_brk8M_Xp"
      },
      "execution_count": 12,
      "outputs": []
    },
    {
      "cell_type": "code",
      "source": [
        "#@title 🎙️ End-to-End Demo (Speech → LLM → Speech)\n",
        "try:\n",
        "    t_total = time.time()\n",
        "    text = transcribe(AUDIO_PATH)\n",
        "    print(\"\\n👤 User (transcribed):\", text)\n",
        "\n",
        "    answer = run_project_llm(text)\n",
        "    print(\"🤖 FinSynth Model:\", answer)\n",
        "\n",
        "    synth_out = synthesize_tts(answer)\n",
        "    total_time = round(time.time() - t_total, 2)\n",
        "    print(f\"\\n✅ End-to-End Pipeline Complete in {total_time}s\")\n",
        "    print(\"🔊 TTS saved to:\", synth_out)\n",
        "except Exception as e:\n",
        "    print(\"Demo error:\", e)\n"
      ],
      "metadata": {
        "colab": {
          "base_uri": "https://localhost:8080/"
        },
        "id": "oJ_tMqWCM_Zr",
        "outputId": "c93f419b-7230-42d5-e960-5175884248fe"
      },
      "execution_count": 13,
      "outputs": [
        {
          "output_type": "stream",
          "name": "stderr",
          "text": [
            "/usr/local/lib/python3.12/dist-packages/whisper/transcribe.py:132: UserWarning: FP16 is not supported on CPU; using FP32 instead\n",
            "  warnings.warn(\"FP16 is not supported on CPU; using FP32 instead\")\n"
          ]
        },
        {
          "output_type": "stream",
          "name": "stdout",
          "text": [
            "🕒 Whisper Transcription Latency: 6.97s\n",
            "\n",
            "👤 User (transcribed): Hello FinSynth, can you summarize the recent stock market trend for me?\n",
            "⚠️ Backend request failed: HTTPConnectionPool(host='127.0.0.1', port=8000): Max retries exceeded with url: /qa (Caused by NewConnectionError('<urllib3.connection.HTTPConnection object at 0x7872831e3bf0>: Failed to establish a new connection: [Errno 111] Connection refused'))\n",
            "🤖 FinSynth Model: (model unavailable)\n",
            "🕒 TTS Generation Latency: 0.14s\n",
            "\n",
            "✅ End-to-End Pipeline Complete in 8.84s\n",
            "🔊 TTS saved to: reply.mp3\n"
          ]
        }
      ]
    },
    {
      "cell_type": "code",
      "source": [
        "#@title ✅ Step 1: Write & Launch Local FinSynth Backend\n",
        "import os, sys, time, subprocess, requests, json\n",
        "\n",
        "backend_code = r'''\n",
        "from fastapi import FastAPI\n",
        "from pydantic import BaseModel\n",
        "from fastapi.middleware.cors import CORSMiddleware\n",
        "import random\n",
        "\n",
        "app = FastAPI(title=\"FinSynth Local Backend (Week7 QA)\")\n",
        "app.add_middleware(CORSMiddleware, allow_origins=[\"*\"], allow_methods=[\"*\"], allow_headers=[\"*\"])\n",
        "\n",
        "class Query(BaseModel):\n",
        "    text: str\n",
        "\n",
        "@app.get(\"/health\")\n",
        "def health():\n",
        "    return {\"status\": \"ok\"}\n",
        "\n",
        "@app.post(\"/qa\")\n",
        "def qa(q: Query):\n",
        "    answers = {\n",
        "        \"stock\": \"Stocks have shown moderate gains driven by tech recovery and investor optimism.\",\n",
        "        \"energy\": \"Energy markets remain stable with oil prices hovering near the $80 mark.\",\n",
        "        \"ev\": \"Electric vehicle growth is supported by automation and renewable incentives.\"\n",
        "    }\n",
        "    key = \"stock\" if \"stock\" in q.text.lower() else \"energy\" if \"energy\" in q.text.lower() else \"ev\"\n",
        "    return {\n",
        "        \"answer\": answers.get(key, \"I analyzed the input and found general positive market momentum.\"),\n",
        "        \"citations\": [\"FinSynth_Doc1:L20-35\", \"Market_Report_2025:L5-12\"]\n",
        "    }\n",
        "'''\n",
        "\n",
        "with open(\"backend_local.py\", \"w\") as f:\n",
        "    f.write(backend_code)\n",
        "\n",
        "# Launch FastAPI server in background\n",
        "proc = subprocess.Popen([sys.executable, \"-m\", \"uvicorn\", \"backend_local:app\", \"--host\", \"0.0.0.0\", \"--port\", \"8000\"],\n",
        "                        stdout=subprocess.PIPE, stderr=subprocess.PIPE)\n",
        "\n",
        "time.sleep(3)\n",
        "print(\"✅ Backend launched.\")\n",
        "try:\n",
        "    print(\"Health check:\", requests.get(\"http://127.0.0.1:8000/health\").json())\n",
        "except Exception as e:\n",
        "    print(\"⚠️ Health check failed:\", e)\n"
      ],
      "metadata": {
        "colab": {
          "base_uri": "https://localhost:8080/"
        },
        "id": "-ioU0xssM_bz",
        "outputId": "685d9d61-e4ce-4d1a-87b9-aa7aaeb2c3db"
      },
      "execution_count": 14,
      "outputs": [
        {
          "output_type": "stream",
          "name": "stdout",
          "text": [
            "✅ Backend launched.\n",
            "Health check: {'status': 'ok'}\n"
          ]
        }
      ]
    },
    {
      "cell_type": "code",
      "source": [
        "#@title 🎙️ End-to-End Demo (Speech → FinSynth QA → Speech)\n",
        "try:\n",
        "    t_total = time.time()\n",
        "    text = transcribe(AUDIO_PATH)\n",
        "    print(\"\\n👤 User (transcribed):\", text)\n",
        "\n",
        "    answer = run_project_llm(text)\n",
        "    print(\"🤖 FinSynth Model:\", answer)\n",
        "\n",
        "    synth_out = synthesize_tts(answer)\n",
        "    total_time = round(time.time() - t_total, 2)\n",
        "    print(f\"\\n✅ End-to-End Pipeline Complete in {total_time}s\")\n",
        "    print(\"🔊 TTS saved to:\", synth_out)\n",
        "except Exception as e:\n",
        "    print(\"Demo error:\", e)\n"
      ],
      "metadata": {
        "colab": {
          "base_uri": "https://localhost:8080/"
        },
        "id": "8dkdNHJGM_eR",
        "outputId": "4d19c162-45fd-427e-874a-feb40cd25b8d"
      },
      "execution_count": 15,
      "outputs": [
        {
          "output_type": "stream",
          "name": "stderr",
          "text": [
            "/usr/local/lib/python3.12/dist-packages/whisper/transcribe.py:132: UserWarning: FP16 is not supported on CPU; using FP32 instead\n",
            "  warnings.warn(\"FP16 is not supported on CPU; using FP32 instead\")\n"
          ]
        },
        {
          "output_type": "stream",
          "name": "stdout",
          "text": [
            "🕒 Whisper Transcription Latency: 6.21s\n",
            "\n",
            "👤 User (transcribed): Hello FinSynth, can you summarize the recent stock market trend for me?\n",
            "🕒 Model Response Latency: 0.0s\n",
            "🤖 FinSynth Model: Stocks have shown moderate gains driven by tech recovery and investor optimism.\n",
            "🕒 TTS Generation Latency: 0.14s\n",
            "\n",
            "✅ End-to-End Pipeline Complete in 8.82s\n",
            "🔊 TTS saved to: reply.mp3\n"
          ]
        }
      ]
    },
    {
      "cell_type": "code",
      "source": [
        "from IPython.display import Audio\n",
        "Audio(\"reply.mp3\")\n"
      ],
      "metadata": {
        "colab": {
          "base_uri": "https://localhost:8080/",
          "height": 75
        },
        "id": "ojnheMNZM_gr",
        "outputId": "e61631b7-596a-457d-c8cc-d06331b40792"
      },
      "execution_count": 16,
      "outputs": [
        {
          "output_type": "execute_result",
          "data": {
            "text/plain": [
              "<IPython.lib.display.Audio object>"
            ],
            "text/html": [
              "\n",
              "                <audio  controls=\"controls\" >\n",
              "                    <source src=\"data:audio/mpeg;base64,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\" type=\"audio/mpeg\" />\n",
              "                    Your browser does not support the audio element.\n",
              "                </audio>\n",
              "              "
            ]
          },
          "metadata": {},
          "execution_count": 16
        }
      ]
    },
    {
      "cell_type": "code",
      "source": [],
      "metadata": {
        "id": "oVIO9xycM_jD"
      },
      "execution_count": null,
      "outputs": []
    }
  ]
}