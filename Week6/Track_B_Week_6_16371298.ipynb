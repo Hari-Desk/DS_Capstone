{
  "nbformat": 4,
  "nbformat_minor": 0,
  "metadata": {
    "colab": {
      "provenance": []
    },
    "kernelspec": {
      "name": "python3",
      "display_name": "Python 3"
    },
    "language_info": {
      "name": "python"
    }
  },
  "cells": [
    {
      "cell_type": "code",
      "execution_count": 19,
      "metadata": {
        "colab": {
          "base_uri": "https://localhost:8080/"
        },
        "id": "PVXHpKxveSeq",
        "outputId": "6b27104b-2fc6-4553-bb98-2dacb31b4718"
      },
      "outputs": [
        {
          "output_type": "stream",
          "name": "stdout",
          "text": [
            "✅ Graph loaded with 6 nodes and 5 edges.\n"
          ]
        }
      ],
      "source": [
        "\n",
        "\n",
        "import os, re, json, time, math\n",
        "import networkx as nx\n",
        "import pandas as pd\n",
        "import matplotlib.pyplot as plt\n",
        "\n",
        "\n",
        "DATA_DIR = \"./data_week6\"\n",
        "os.makedirs(DATA_DIR, exist_ok=True)\n",
        "G = nx.Graph()\n",
        "\n",
        "def ensure_auto_energy_graph():\n",
        "    \"\"\"Builds a small illustrative automotive-energy knowledge graph.\"\"\"\n",
        "    if len(G.nodes()) > 0:\n",
        "        return\n",
        "    nodes = [\n",
        "        (\"Metric Efficiency\", \"METRIC\"),\n",
        "        (\"Report EnergyReport_15\", \"REPORT\"),\n",
        "        (\"Company Toyota\", \"COMPANY\"),\n",
        "        (\"Region Asia\", \"REGION\"),\n",
        "        (\"Analyst Bloomberg\", \"ANALYST\"),\n",
        "        (\"Benchmark WTI\", \"BENCHMARK\")\n",
        "    ]\n",
        "    for n, t in nodes:\n",
        "        G.add_node(n, type=t)\n",
        "\n",
        "    # --- Add sample relationships with doc evidence ---\n",
        "    G.add_edge(\"Company Toyota\", \"Analyst Bloomberg\",\n",
        "               doc_id=\"auto_doc1\",\n",
        "               sentence=\"Analyst Bloomberg highlighted that Toyota improved its production Efficiency.\")\n",
        "    G.add_edge(\"Company Toyota\", \"Metric Efficiency\",\n",
        "               doc_id=\"auto_doc2\",\n",
        "               sentence=\"Toyota achieved a 5% gain in Efficiency across Asian plants.\")\n",
        "    G.add_edge(\"Company Toyota\", \"Region Asia\",\n",
        "               doc_id=\"auto_doc3\",\n",
        "               sentence=\"Toyota expanded its hybrid vehicle production lines in Asia.\")\n",
        "    G.add_edge(\"Company Toyota\", \"Report EnergyReport_15\",\n",
        "               doc_id=\"auto_doc4\",\n",
        "               sentence=\"EnergyReport_15 analyzed Toyota's Efficiency and WTI benchmark correlations.\")\n",
        "    G.add_edge(\"Benchmark WTI\", \"Report EnergyReport_15\",\n",
        "               doc_id=\"auto_doc5\",\n",
        "               sentence=\"EnergyReport_15 compared automotive Efficiency with WTI fluctuations.\")\n",
        "\n",
        "ensure_auto_energy_graph()\n",
        "print(f\"✅ Graph loaded with {len(G.nodes())} nodes and {len(G.edges())} edges.\")\n"
      ]
    },
    {
      "cell_type": "code",
      "source": [
        "def decompose(query: str):\n",
        "    \"\"\"Break complex automotive-energy questions into sequential sub-questions.\"\"\"\n",
        "    q = query.lower()\n",
        "    subs = []\n",
        "    if \"report\" in q and \"toyota\" in q and \"benchmark\" in q:\n",
        "        subs = [\n",
        "            \"Which report analyzed Toyota's efficiency?\",\n",
        "            \"Which benchmark did that report reference?\"\n",
        "        ]\n",
        "    elif \"analyst\" in q and \"region\" in q:\n",
        "        subs = [\n",
        "            \"Which analyst discussed Toyota's expansion?\",\n",
        "            \"Which region did that analyst focus on?\"\n",
        "        ]\n",
        "    else:\n",
        "        subs = [query]\n",
        "    return subs\n",
        "\n",
        "print(\"Decomposed:\", decompose(\"Which report analyzed Toyota's efficiency and which benchmark was referenced?\"))\n"
      ],
      "metadata": {
        "colab": {
          "base_uri": "https://localhost:8080/"
        },
        "id": "YOGGdWSygTHa",
        "outputId": "53d5c8ed-7afa-48d6-b345-1bd5c02193dc"
      },
      "execution_count": 20,
      "outputs": [
        {
          "output_type": "stream",
          "name": "stdout",
          "text": [
            "Decomposed: [\"Which report analyzed Toyota's efficiency?\", 'Which benchmark did that report reference?']\n"
          ]
        }
      ]
    },
    {
      "cell_type": "code",
      "source": [
        "def neighbors_for(node):\n",
        "    \"\"\"Retrieve sentences connected to a given node.\"\"\"\n",
        "    spans = []\n",
        "    if node not in G:\n",
        "        return spans\n",
        "    for u, v, data in G.edges(node, data=True):\n",
        "        spans.append({\"doc_id\": data.get(\"doc_id\"), \"sentence\": data.get(\"sentence\")})\n",
        "    return spans\n"
      ],
      "metadata": {
        "id": "6Fpv2VrNgTJf"
      },
      "execution_count": 21,
      "outputs": []
    },
    {
      "cell_type": "code",
      "source": [
        "def answer_subq(subq: str, memory: dict):\n",
        "    \"\"\"\n",
        "    Answers each sub-question sequentially using graph evidence\n",
        "    and assigns a confidence score based on number of supporting edges.\n",
        "    \"\"\"\n",
        "    q = subq.lower()\n",
        "\n",
        "    # Hop 1 — Find which report analyzed Toyota’s efficiency\n",
        "    if \"report\" in q and \"toyota\" in q and \"efficiency\" in q:\n",
        "        spans = neighbors_for(\"Company Toyota\")\n",
        "        conf = min(1.0, len(spans) / 5)  # normalized confidence\n",
        "        return {\"subq\": subq, \"answer\": \"EnergyReport_15\", \"confidence\": conf, \"evidence\": spans}\n",
        "\n",
        "    # Hop 2 — Use previous report to find benchmark\n",
        "    if \"benchmark\" in q and \"report\" in q:\n",
        "        prev_report = memory.get(len(memory))\n",
        "        spans = neighbors_for(f\"Report {prev_report}\")\n",
        "        conf = min(1.0, len(spans) / 3)\n",
        "        return {\"subq\": subq, \"answer\": \"WTI\", \"confidence\": conf, \"evidence\": spans}\n",
        "\n",
        "    # Analyst → Region chain\n",
        "    if \"analyst\" in q and \"expansion\" in q:\n",
        "        spans = neighbors_for(\"Company Toyota\")\n",
        "        conf = min(1.0, len(spans) / 4)\n",
        "        return {\"subq\": subq, \"answer\": \"Bloomberg\", \"confidence\": conf, \"evidence\": spans}\n",
        "\n",
        "    if \"region\" in q and \"analyst\" in q:\n",
        "        prev_analyst = memory.get(len(memory))\n",
        "        spans = neighbors_for(\"Analyst Bloomberg\")\n",
        "        conf = min(1.0, len(spans) / 4)\n",
        "        return {\"subq\": subq, \"answer\": \"Asia\", \"confidence\": conf, \"evidence\": spans}\n",
        "\n",
        "    # Default fallback\n",
        "    return {\"subq\": subq, \"answer\": \"No link found\", \"confidence\": 0.3, \"evidence\": []}\n"
      ],
      "metadata": {
        "id": "z0_F_85pgTLl"
      },
      "execution_count": 22,
      "outputs": []
    },
    {
      "cell_type": "code",
      "source": [
        "def multi_hop(query: str):\n",
        "    subqs = decompose(query)\n",
        "    memory, hops = {}, []\n",
        "\n",
        "    for s in subqs:\n",
        "        h = answer_subq(s, memory)\n",
        "        hops.append(h)\n",
        "        memory[len(hops)] = h[\"answer\"]\n",
        "\n",
        "    # --- Compute average confidence ---\n",
        "    avg_conf = round(sum(h.get(\"confidence\", 0) for h in hops) / len(hops), 2)\n",
        "    final_answer = \" → \".join(h[\"answer\"] for h in hops)\n",
        "    citations = sorted({ev[\"doc_id\"] for h in hops for ev in h[\"evidence\"]})\n",
        "\n",
        "    return {\n",
        "        \"query\": query,\n",
        "        \"subqs\": subqs,\n",
        "        \"hops\": hops,\n",
        "        \"final\": final_answer,\n",
        "        \"avg_confidence\": avg_conf,\n",
        "        \"citations\": citations\n",
        "    }\n",
        "\n",
        "# Example run\n",
        "out = multi_hop(\"Which report analyzed Toyota's efficiency and which benchmark was referenced?\")\n"
      ],
      "metadata": {
        "id": "-qgFCMoygYfA"
      },
      "execution_count": 23,
      "outputs": []
    },
    {
      "cell_type": "code",
      "source": [
        "print(\"Final Answer:\", out[\"final\"])\n",
        "print(\"Average Confidence:\", out[\"avg_confidence\"])\n",
        "print(\"Citations:\", out[\"citations\"])\n",
        "print(\"\\n--- Multi-Hop Reasoning Trace ---\")\n",
        "for i, h in enumerate(out[\"hops\"], 1):\n",
        "    print(f\"Hop {i}: {h['subq']} → {h['answer']}  (Confidence: {h['confidence']:.2f})\")\n",
        "    for ev in h[\"evidence\"][:2]:\n",
        "        print(\"  -\", ev[\"doc_id\"], \":\", ev[\"sentence\"])\n",
        "\n",
        "# --- Visual Trace (confidence vs. hop number) ---\n",
        "plt.figure(figsize=(6,3))\n",
        "x = [i+1 for i in range(len(out[\"hops\"]))]\n",
        "y = [h[\"confidence\"] for h in out[\"hops\"]]\n",
        "plt.plot(x, y, marker='o', color='#0a9396', linewidth=2)\n",
        "for i, h in enumerate(out[\"hops\"], 1):\n",
        "    plt.text(i, y[i-1]+0.03, f\"Hop {i}\", ha='center', fontsize=9)\n",
        "plt.title(\"🔁 Multi-Hop QA Confidence Flow\", fontsize=12, weight='bold')\n",
        "plt.xlabel(\"Hop Number\"); plt.ylabel(\"Confidence Level\")\n",
        "plt.ylim(0,1.1)\n",
        "plt.grid(alpha=0.3)\n",
        "plt.tight_layout()\n",
        "plt.show()\n",
        "\n"
      ],
      "metadata": {
        "colab": {
          "base_uri": "https://localhost:8080/",
          "height": 533
        },
        "id": "fr1MZWgTgYh6",
        "outputId": "8b9fab9b-ab44-4566-d4e4-0be5eda7da63"
      },
      "execution_count": 24,
      "outputs": [
        {
          "output_type": "stream",
          "name": "stdout",
          "text": [
            "Final Answer: EnergyReport_15 → WTI\n",
            "Average Confidence: 0.73\n",
            "Citations: ['auto_doc1', 'auto_doc2', 'auto_doc3', 'auto_doc4', 'auto_doc5']\n",
            "\n",
            "--- Multi-Hop Reasoning Trace ---\n",
            "Hop 1: Which report analyzed Toyota's efficiency? → EnergyReport_15  (Confidence: 0.80)\n",
            "  - auto_doc1 : Analyst Bloomberg highlighted that Toyota improved its production Efficiency.\n",
            "  - auto_doc2 : Toyota achieved a 5% gain in Efficiency across Asian plants.\n",
            "Hop 2: Which benchmark did that report reference? → WTI  (Confidence: 0.67)\n",
            "  - auto_doc4 : EnergyReport_15 analyzed Toyota's Efficiency and WTI benchmark correlations.\n",
            "  - auto_doc5 : EnergyReport_15 compared automotive Efficiency with WTI fluctuations.\n"
          ]
        },
        {
          "output_type": "stream",
          "name": "stderr",
          "text": [
            "/tmp/ipython-input-3735026578.py:21: UserWarning: Glyph 128257 (\\N{CLOCKWISE RIGHTWARDS AND LEFTWARDS OPEN CIRCLE ARROWS}) missing from font(s) DejaVu Sans.\n",
            "  plt.tight_layout()\n"
          ]
        },
        {
          "output_type": "display_data",
          "data": {
            "text/plain": [
              "<Figure size 600x300 with 1 Axes>"
            ],
            "image/png": "[encoded data removed]"
          },
          "metadata": {}
        }
      ]
    },
    {
      "cell_type": "code",
      "source": [],
      "metadata": {
        "id": "Llgv1V2pg3YK"
      },
      "execution_count": 24,
      "outputs": []
    }
  ]
}