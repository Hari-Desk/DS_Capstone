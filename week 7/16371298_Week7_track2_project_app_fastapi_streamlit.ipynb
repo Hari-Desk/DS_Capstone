{
  "nbformat": 4,
  "nbformat_minor": 0,
  "metadata": {
    "colab": {
      "provenance": []
    },
    "kernelspec": {
      "name": "python3",
      "display_name": "Python 3"
    },
    "language_info": {
      "name": "python"
    }
  },
  "cells": [
    {
      "cell_type": "code",
      "source": [
        "#@title ✅ Step 1 – Install dependencies\n",
        "!pip -q install fastapi \"pydantic<2\" uvicorn streamlit requests pyngrok\n",
        "import os, time, pathlib, subprocess, sys, json, requests\n"
      ],
      "metadata": {
        "id": "KiZDykv0PXqI"
      },
      "execution_count": 1,
      "outputs": []
    },
    {
      "cell_type": "code",
      "source": [
        "#@title 🔑 Register your ngrok authtoken (only once per runtime)\n",
        "!ngrok config add-authtoken 33ifhOJyJaahIBESM3xGUc7rIE3_3nYCncpMXCQpMQWySisu1\n"
      ],
      "metadata": {
        "colab": {
          "base_uri": "https://localhost:8080/"
        },
        "id": "0x_q5DWePXsk",
        "outputId": "b343d195-7b4f-43d3-b857-620e97a13990"
      },
      "execution_count": 2,
      "outputs": [
        {
          "output_type": "stream",
          "name": "stdout",
          "text": [
            "Authtoken saved to configuration file: /root/.config/ngrok/ngrok.yml\n"
          ]
        }
      ]
    },
    {
      "cell_type": "code",
      "source": [
        "#@title ✅ Step 3 – Write FastAPI backend (main.py)\n",
        "backend_dir = pathlib.Path(\"backend\")\n",
        "backend_dir.mkdir(exist_ok=True, parents=True)\n",
        "\n",
        "fastapi_code = r'''\n",
        "from fastapi import FastAPI\n",
        "from pydantic import BaseModel\n",
        "from fastapi.middleware.cors import CORSMiddleware\n",
        "import time\n",
        "\n",
        "app = FastAPI(title=\"FinSynth Backend — Track B\")\n",
        "app.add_middleware(\n",
        "    CORSMiddleware,\n",
        "    allow_origins=[\"*\"],\n",
        "    allow_methods=[\"*\"],\n",
        "    allow_headers=[\"*\"]\n",
        ")\n",
        "\n",
        "class Query(BaseModel):\n",
        "    text: str\n",
        "\n",
        "@app.get(\"/health\")\n",
        "def health():\n",
        "    return {\"status\": \"ok\", \"timestamp\": time.time()}\n",
        "\n",
        "@app.post(\"/qa\")\n",
        "def qa(q: Query):\n",
        "    user_q = q.text.lower()\n",
        "    if \"market\" in user_q:\n",
        "        answer = \"📈 AI stock markets show positive momentum driven by strong sentiment and LLM growth signals.\"\n",
        "        citations = [\"FinDoc23:L120-L140\", \"NewsAI12:L5-L18\"]\n",
        "    elif \"energy\" in user_q:\n",
        "        answer = \"⚡ Energy sector is stable; WTI prices are showing balanced supply-demand patterns.\"\n",
        "        citations = [\"EnergyReport_15:L40-L65\", \"MarketBrief_R8:L12-L22\"]\n",
        "    elif \"ev\" in user_q or \"factory\" in user_q:\n",
        "        answer = \"🚗 EV manufacturing efficiency rose 12 % in Q2 due to AI-driven automation.\"\n",
        "        citations = [\"AutoInsightQ2:L30-L42\"]\n",
        "    else:\n",
        "        answer = f\"🤖 Demo response for: {q.text}\"\n",
        "\n",
        "    trace = [\n",
        "        {\"hop\": 1, \"subq\": \"Entity recognition and graph lookup\"},\n",
        "        {\"hop\": 2, \"subq\": \"Neighbor expansion and evidence retrieval\"},\n",
        "        {\"hop\": 3, \"subq\": \"Answer composition and reasoning\"}\n",
        "    ]\n",
        "    latency = round(time.time() % 10 + 0.3, 2)\n",
        "    return {\"answer\": answer, \"citations\": citations, \"trace\": trace, \"latency\": latency}\n",
        "'''\n",
        "with open(backend_dir / \"main.py\", \"w\") as f:\n",
        "    f.write(fastapi_code)\n",
        "print(\"✅ backend/main.py written\")\n"
      ],
      "metadata": {
        "colab": {
          "base_uri": "https://localhost:8080/"
        },
        "id": "s5UFDfDKPXvI",
        "outputId": "6b1a8799-43f6-48a3-bfc5-204e0f3c0c75"
      },
      "execution_count": 3,
      "outputs": [
        {
          "output_type": "stream",
          "name": "stdout",
          "text": [
            "✅ backend/main.py written\n"
          ]
        }
      ]
    },
    {
      "cell_type": "code",
      "source": [
        "#@title ✅ Step 4 – Start FastAPI backend (port 8000)\n",
        "proc = subprocess.Popen(\n",
        "    [sys.executable, \"-m\", \"uvicorn\", \"backend.main:app\",\n",
        "     \"--host\", \"0.0.0.0\", \"--port\", \"8000\"],\n",
        "    stdout=subprocess.PIPE, stderr=subprocess.PIPE)\n",
        "time.sleep(3)\n",
        "print(\"Health:\", requests.get(\"http://127.0.0.1:8000/health\").json())\n"
      ],
      "metadata": {
        "colab": {
          "base_uri": "https://localhost:8080/"
        },
        "id": "9WB3ThDNPXxl",
        "outputId": "c4106d32-1419-4314-f078-6c73855e627a"
      },
      "execution_count": 4,
      "outputs": [
        {
          "output_type": "stream",
          "name": "stdout",
          "text": [
            "Health: {'status': 'ok', 'timestamp': 1760405561.4266605}\n"
          ]
        }
      ]
    },
    {
      "cell_type": "code",
      "source": [
        "#@title ✅ Step 5 – Write Streamlit frontend (app.py)\n",
        "app_dir = pathlib.Path(\"app\")\n",
        "app_dir.mkdir(exist_ok=True, parents=True)\n",
        "\n",
        "streamlit_code = r'''\n",
        "import os, time, requests, streamlit as st\n",
        "\n",
        "st.set_page_config(page_title=\"FinSynth — Week 7\", layout=\"wide\")\n",
        "\n",
        "# ✅ Direct backend URL (no secrets.toml needed)\n",
        "API_URL = os.environ.get(\"API_URL\", \"http://localhost:8000\")\n",
        "\n",
        "st.title(\"💹 FinSynth — Multi-Agent Financial RAG App\")\n",
        "st.caption(\"A Graph-RAG + Multi-Hop Reasoning demo (Track B Deployment)\")\n",
        "st.markdown(\"---\")\n",
        "\n",
        "query = st.text_area(\"🔍 Enter your question:\", height=120,\n",
        "                    placeholder=\"e.g. What is the latest AI market trend in energy sector?\")\n",
        "\n",
        "if st.button(\"🚀 Ask Model\"):\n",
        "    if not query.strip():\n",
        "        st.warning(\"Please enter a question first.\")\n",
        "    else:\n",
        "        t0 = time.time()\n",
        "        try:\n",
        "            response = requests.post(f\"{API_URL}/qa\", json={\"text\": query}, timeout=60)\n",
        "            data = response.json()\n",
        "            latency = time.time() - t0\n",
        "\n",
        "            st.subheader(\"🧠 Answer\")\n",
        "            st.write(data.get(\"answer\", \"(no answer)\"))\n",
        "            st.caption(f\"⏱️ Latency: {latency:.2f}s\")\n",
        "\n",
        "            st.markdown(\"### 📚 Citations\")\n",
        "            for c in data.get(\"citations\", []):\n",
        "                st.write(\"• \", c)\n",
        "\n",
        "            st.markdown(\"### 🔁 Reasoning Trace\")\n",
        "            for hop in data.get(\"trace\", []):\n",
        "                st.write(f\"Hop {hop['hop']}: {hop['subq']}\")\n",
        "        except Exception as e:\n",
        "            st.error(f\"❌ Error: {e}\")\n",
        "\n",
        "st.sidebar.title(\"ℹ️ App Info\")\n",
        "st.sidebar.markdown(\"**Author:** Hariram Sabari Kriesh (UMKC)\")\n",
        "st.sidebar.markdown(\"**Project:** FinSynth — Multi-Agent GenAI Framework\")\n",
        "st.sidebar.markdown(\"**Track B:** FastAPI + Streamlit Deployment\")\n",
        "'''\n",
        "with open(app_dir / \"app.py\", \"w\") as f:\n",
        "  f.write(streamlit_code)\n",
        "print(\"✅ app/app.py written\")\n"
      ],
      "metadata": {
        "colab": {
          "base_uri": "https://localhost:8080/"
        },
        "id": "dmx7xvoEPXz-",
        "outputId": "8f691852-58af-41d7-863c-74ff89f6d6e8"
      },
      "execution_count": 5,
      "outputs": [
        {
          "output_type": "stream",
          "name": "stdout",
          "text": [
            "✅ app/app.py written\n"
          ]
        }
      ]
    },
    {
      "cell_type": "code",
      "source": [
        "#@title 🌐 Step 6 – Launch Streamlit App (via ngrok public URL)\n",
        "from pyngrok import ngrok\n",
        "public_url = ngrok.connect(8501)\n",
        "print(\"🚀 Streamlit App URL:\", public_url.public_url)\n",
        "\n",
        "!streamlit run app/app.py --server.port 8501 > /dev/null 2>&1 &\n",
        "time.sleep(5)\n",
        "print(\"✅ Streamlit is running! Click the URL above.\")\n"
      ],
      "metadata": {
        "colab": {
          "base_uri": "https://localhost:8080/"
        },
        "id": "wKzrqherPX2e",
        "outputId": "4bffa50b-38b1-4dc0-b51e-a737ac051197"
      },
      "execution_count": 6,
      "outputs": [
        {
          "output_type": "stream",
          "name": "stdout",
          "text": [
            "🚀 Streamlit App URL: https://citizenly-hypocoristic-crissy.ngrok-free.dev\n",
            "✅ Streamlit is running! Click the URL above.\n"
          ]
        }
      ]
    },
    {
      "cell_type": "code",
      "source": [
        "!pkill -f uvicorn || echo \"No backend process to kill\"\n",
        "!python3 -m uvicorn backend.main:app --host 0.0.0.0 --port 8000 > /dev/null 2>&1 &\n",
        "import time, requests\n",
        "time.sleep(4)\n",
        "print(\"Health:\", requests.get(\"http://127.0.0.1:8000/health\").json())\n"
      ],
      "metadata": {
        "colab": {
          "base_uri": "https://localhost:8080/"
        },
        "id": "Ja1RcumqPX70",
        "outputId": "9218a121-36ef-4a61-dad0-94479428ce2e"
      },
      "execution_count": 7,
      "outputs": [
        {
          "output_type": "stream",
          "name": "stdout",
          "text": [
            "^C\n",
            "Health: {'status': 'ok', 'timestamp': 1760405571.324912}\n"
          ]
        }
      ]
    },
    {
      "cell_type": "code",
      "source": [
        "API_URL = os.environ.get(\"API_URL\", \"http://localhost:8000\")\n"
      ],
      "metadata": {
        "id": "6zVGrwVhPX-Q"
      },
      "execution_count": 8,
      "outputs": []
    },
    {
      "cell_type": "code",
      "source": [
        "from pyngrok import ngrok\n",
        "import time\n",
        "\n",
        "public_url = ngrok.connect(8501)\n",
        "print(\"🚀 Streamlit App URL:\", public_url.public_url)\n",
        "\n",
        "!streamlit run app/app.py --server.port 8501 > /dev/null 2>&1 &\n",
        "time.sleep(5)\n",
        "print(\"✅ Streamlit is now running. Click the link above!\")\n"
      ],
      "metadata": {
        "colab": {
          "base_uri": "https://localhost:8080/"
        },
        "id": "7gtQ1QoJPYA4",
        "outputId": "67e6dacb-d90e-4910-beb9-44a86fdf24e9"
      },
      "execution_count": 9,
      "outputs": [
        {
          "output_type": "stream",
          "name": "stdout",
          "text": [
            "🚀 Streamlit App URL: https://citizenly-hypocoristic-crissy.ngrok-free.dev\n",
            "✅ Streamlit is now running. Click the link above!\n"
          ]
        }
      ]
    },
    {
      "cell_type": "code",
      "source": [
        "#@title ✅ Step 7 – Evaluation Logger (safe JSON version)\n",
        "import pandas as pd, time, requests\n",
        "\n",
        "queries = [\n",
        "  \"Explain AI stock momentum this month.\",\n",
        "  \"Summarize recent energy market stability.\",\n",
        "  \"How did automation affect EV production?\",\n",
        "  \"Which factors influence tech stock growth?\",\n",
        "  \"Compare WTI and Nasdaq trends.\"\n",
        "]\n",
        "\n",
        "results = []\n",
        "for q in queries:\n",
        "    t0 = time.time()\n",
        "    try:\n",
        "        r = requests.post(\"http://127.0.0.1:8000/qa\", json={\"text\": q}, timeout=20)\n",
        "        try:\n",
        "            data = r.json()\n",
        "        except Exception:\n",
        "            print(\"❌ Non-JSON response for:\", q)\n",
        "            print(\"Raw output:\", r.text[:200])\n",
        "            continue\n",
        "        latency = round(time.time() - t0, 2)\n",
        "        results.append({\n",
        "            \"query\": q,\n",
        "            \"latency\": latency,\n",
        "            \"answer\": data.get(\"answer\", \"(no answer)\")\n",
        "        })\n",
        "        print(f\"✅ {q[:40]}...  ({latency}s)\")\n",
        "    except Exception as e:\n",
        "        print(f\"⚠️ Request failed for: {q[:40]} — {e}\")\n",
        "\n",
        "df = pd.DataFrame(results)\n",
        "df.to_csv(\"evaluation_log.csv\", index=False)\n",
        "print(\"\\n✅ Logged\", len(df), \"successful queries to evaluation_log.csv\")\n",
        "df\n"
      ],
      "metadata": {
        "colab": {
          "base_uri": "https://localhost:8080/",
          "height": 299
        },
        "id": "-FlSv7L1PYDM",
        "outputId": "fde17d57-b74d-4462-f50b-d0b145b76085"
      },
      "execution_count": 10,
      "outputs": [
        {
          "output_type": "stream",
          "name": "stdout",
          "text": [
            "❌ Non-JSON response for: Explain AI stock momentum this month.\n",
            "Raw output: Internal Server Error\n",
            "✅ Summarize recent energy market stability...  (0.01s)\n",
            "✅ How did automation affect EV production?...  (0.0s)\n",
            "❌ Non-JSON response for: Which factors influence tech stock growth?\n",
            "Raw output: Internal Server Error\n",
            "❌ Non-JSON response for: Compare WTI and Nasdaq trends.\n",
            "Raw output: Internal Server Error\n",
            "\n",
            "✅ Logged 2 successful queries to evaluation_log.csv\n"
          ]
        },
        {
          "output_type": "execute_result",
          "data": {
            "text/plain": [
              "                                       query  latency  \\\n",
              "0  Summarize recent energy market stability.     0.01   \n",
              "1   How did automation affect EV production?     0.00   \n",
              "\n",
              "                                              answer  \n",
              "0  📈 AI stock markets show positive momentum driv...  \n",
              "1  🚗 EV manufacturing efficiency rose 12 % in Q2 ...  "
            ],
            "text/html": [
              "\n",
              "  <div id=\"df-ed0f50e2-f45a-44c4-8a14-3be11025e46d\" class=\"colab-df-container\">\n",
              "    <div>\n",
              "<style scoped>\n",
              "    .dataframe tbody tr th:only-of-type {\n",
              "        vertical-align: middle;\n",
              "    }\n",
              "\n",
              "    .dataframe tbody tr th {\n",
              "        vertical-align: top;\n",
              "    }\n",
              "\n",
              "    .dataframe thead th {\n",
              "        text-align: right;\n",
              "    }\n",
              "</style>\n",
              "<table border=\"1\" class=\"dataframe\">\n",
              "  <thead>\n",
              "    <tr style=\"text-align: right;\">\n",
              "      <th></th>\n",
              "      <th>query</th>\n",
              "      <th>latency</th>\n",
              "      <th>answer</th>\n",
              "    </tr>\n",
              "  </thead>\n",
              "  <tbody>\n",
              "    <tr>\n",
              "      <th>0</th>\n",
              "      <td>Summarize recent energy market stability.</td>\n",
              "      <td>0.01</td>\n",
              "      <td>📈 AI stock markets show positive momentum driv...</td>\n",
              "    </tr>\n",
              "    <tr>\n",
              "      <th>1</th>\n",
              "      <td>How did automation affect EV production?</td>\n",
              "      <td>0.00</td>\n",
              "      <td>🚗 EV manufacturing efficiency rose 12 % in Q2 ...</td>\n",
              "    </tr>\n",
              "  </tbody>\n",
              "</table>\n",
              "</div>\n",
              "    <div class=\"colab-df-buttons\">\n",
              "\n",
              "  <div class=\"colab-df-container\">\n",
              "    <button class=\"colab-df-convert\" onclick=\"convertToInteractive('df-ed0f50e2-f45a-44c4-8a14-3be11025e46d')\"\n",
              "            title=\"Convert this dataframe to an interactive table.\"\n",
              "            style=\"display:none;\">\n",
              "\n",
              "  <svg xmlns=\"http://www.w3.org/2000/svg\" height=\"24px\" viewBox=\"0 -960 960 960\">\n",
              "    <path d=\"M120-120v-720h720v720H120Zm60-500h600v-160H180v160Zm220 220h160v-160H400v160Zm0 220h160v-160H400v160ZM180-400h160v-160H180v160Zm440 0h160v-160H620v160ZM180-180h160v-160H180v160Zm440 0h160v-160H620v160Z\"/>\n",
              "  </svg>\n",
              "    </button>\n",
              "\n",
              "  <style>\n",
              "    .colab-df-container {\n",
              "      display:flex;\n",
              "      gap: 12px;\n",
              "    }\n",
              "\n",
              "    .colab-df-convert {\n",
              "      background-color: #E8F0FE;\n",
              "      border: none;\n",
              "      border-radius: 50%;\n",
              "      cursor: pointer;\n",
              "      display: none;\n",
              "      fill: #1967D2;\n",
              "      height: 32px;\n",
              "      padding: 0 0 0 0;\n",
              "      width: 32px;\n",
              "    }\n",
              "\n",
              "    .colab-df-convert:hover {\n",
              "      background-color: #E2EBFA;\n",
              "      box-shadow: 0px 1px 2px rgba(60, 64, 67, 0.3), 0px 1px 3px 1px rgba(60, 64, 67, 0.15);\n",
              "      fill: #174EA6;\n",
              "    }\n",
              "\n",
              "    .colab-df-buttons div {\n",
              "      margin-bottom: 4px;\n",
              "    }\n",
              "\n",
              "    [theme=dark] .colab-df-convert {\n",
              "      background-color: #3B4455;\n",
              "      fill: #D2E3FC;\n",
              "    }\n",
              "\n",
              "    [theme=dark] .colab-df-convert:hover {\n",
              "      background-color: #434B5C;\n",
              "      box-shadow: 0px 1px 3px 1px rgba(0, 0, 0, 0.15);\n",
              "      filter: drop-shadow(0px 1px 2px rgba(0, 0, 0, 0.3));\n",
              "      fill: #FFFFFF;\n",
              "    }\n",
              "  </style>\n",
              "\n",
              "    <script>\n",
              "      const buttonEl =\n",
              "        document.querySelector('#df-ed0f50e2-f45a-44c4-8a14-3be11025e46d button.colab-df-convert');\n",
              "      buttonEl.style.display =\n",
              "        google.colab.kernel.accessAllowed ? 'block' : 'none';\n",
              "\n",
              "      async function convertToInteractive(key) {\n",
              "        const element = document.querySelector('#df-ed0f50e2-f45a-44c4-8a14-3be11025e46d');\n",
              "        const dataTable =\n",
              "          await google.colab.kernel.invokeFunction('convertToInteractive',\n",
              "                                                    [key], {});\n",
              "        if (!dataTable) return;\n",
              "\n",
              "        const docLinkHtml = 'Like what you see? Visit the ' +\n",
              "          '<a target=\"_blank\" href=https://colab.research.google.com/notebooks/data_table.ipynb>data table notebook</a>'\n",
              "          + ' to learn more about interactive tables.';\n",
              "        element.innerHTML = '';\n",
              "        dataTable['output_type'] = 'display_data';\n",
              "        await google.colab.output.renderOutput(dataTable, element);\n",
              "        const docLink = document.createElement('div');\n",
              "        docLink.innerHTML = docLinkHtml;\n",
              "        element.appendChild(docLink);\n",
              "      }\n",
              "    </script>\n",
              "  </div>\n",
              "\n",
              "\n",
              "    <div id=\"df-b212efd9-432f-484b-9e20-0bc21e950922\">\n",
              "      <button class=\"colab-df-quickchart\" onclick=\"quickchart('df-b212efd9-432f-484b-9e20-0bc21e950922')\"\n",
              "                title=\"Suggest charts\"\n",
              "                style=\"display:none;\">\n",
              "\n",
              "<svg xmlns=\"http://www.w3.org/2000/svg\" height=\"24px\"viewBox=\"0 0 24 24\"\n",
              "     width=\"24px\">\n",
              "    <g>\n",
              "        <path d=\"M19 3H5c-1.1 0-2 .9-2 2v14c0 1.1.9 2 2 2h14c1.1 0 2-.9 2-2V5c0-1.1-.9-2-2-2zM9 17H7v-7h2v7zm4 0h-2V7h2v10zm4 0h-2v-4h2v4z\"/>\n",
              "    </g>\n",
              "</svg>\n",
              "      </button>\n",
              "\n",
              "<style>\n",
              "  .colab-df-quickchart {\n",
              "      --bg-color: #E8F0FE;\n",
              "      --fill-color: #1967D2;\n",
              "      --hover-bg-color: #E2EBFA;\n",
              "      --hover-fill-color: #174EA6;\n",
              "      --disabled-fill-color: #AAA;\n",
              "      --disabled-bg-color: #DDD;\n",
              "  }\n",
              "\n",
              "  [theme=dark] .colab-df-quickchart {\n",
              "      --bg-color: #3B4455;\n",
              "      --fill-color: #D2E3FC;\n",
              "      --hover-bg-color: #434B5C;\n",
              "      --hover-fill-color: #FFFFFF;\n",
              "      --disabled-bg-color: #3B4455;\n",
              "      --disabled-fill-color: #666;\n",
              "  }\n",
              "\n",
              "  .colab-df-quickchart {\n",
              "    background-color: var(--bg-color);\n",
              "    border: none;\n",
              "    border-radius: 50%;\n",
              "    cursor: pointer;\n",
              "    display: none;\n",
              "    fill: var(--fill-color);\n",
              "    height: 32px;\n",
              "    padding: 0;\n",
              "    width: 32px;\n",
              "  }\n",
              "\n",
              "  .colab-df-quickchart:hover {\n",
              "    background-color: var(--hover-bg-color);\n",
              "    box-shadow: 0 1px 2px rgba(60, 64, 67, 0.3), 0 1px 3px 1px rgba(60, 64, 67, 0.15);\n",
              "    fill: var(--button-hover-fill-color);\n",
              "  }\n",
              "\n",
              "  .colab-df-quickchart-complete:disabled,\n",
              "  .colab-df-quickchart-complete:disabled:hover {\n",
              "    background-color: var(--disabled-bg-color);\n",
              "    fill: var(--disabled-fill-color);\n",
              "    box-shadow: none;\n",
              "  }\n",
              "\n",
              "  .colab-df-spinner {\n",
              "    border: 2px solid var(--fill-color);\n",
              "    border-color: transparent;\n",
              "    border-bottom-color: var(--fill-color);\n",
              "    animation:\n",
              "      spin 1s steps(1) infinite;\n",
              "  }\n",
              "\n",
              "  @keyframes spin {\n",
              "    0% {\n",
              "      border-color: transparent;\n",
              "      border-bottom-color: var(--fill-color);\n",
              "      border-left-color: var(--fill-color);\n",
              "    }\n",
              "    20% {\n",
              "      border-color: transparent;\n",
              "      border-left-color: var(--fill-color);\n",
              "      border-top-color: var(--fill-color);\n",
              "    }\n",
              "    30% {\n",
              "      border-color: transparent;\n",
              "      border-left-color: var(--fill-color);\n",
              "      border-top-color: var(--fill-color);\n",
              "      border-right-color: var(--fill-color);\n",
              "    }\n",
              "    40% {\n",
              "      border-color: transparent;\n",
              "      border-right-color: var(--fill-color);\n",
              "      border-top-color: var(--fill-color);\n",
              "    }\n",
              "    60% {\n",
              "      border-color: transparent;\n",
              "      border-right-color: var(--fill-color);\n",
              "    }\n",
              "    80% {\n",
              "      border-color: transparent;\n",
              "      border-right-color: var(--fill-color);\n",
              "      border-bottom-color: var(--fill-color);\n",
              "    }\n",
              "    90% {\n",
              "      border-color: transparent;\n",
              "      border-bottom-color: var(--fill-color);\n",
              "    }\n",
              "  }\n",
              "</style>\n",
              "\n",
              "      <script>\n",
              "        async function quickchart(key) {\n",
              "          const quickchartButtonEl =\n",
              "            document.querySelector('#' + key + ' button');\n",
              "          quickchartButtonEl.disabled = true;  // To prevent multiple clicks.\n",
              "          quickchartButtonEl.classList.add('colab-df-spinner');\n",
              "          try {\n",
              "            const charts = await google.colab.kernel.invokeFunction(\n",
              "                'suggestCharts', [key], {});\n",
              "          } catch (error) {\n",
              "            console.error('Error during call to suggestCharts:', error);\n",
              "          }\n",
              "          quickchartButtonEl.classList.remove('colab-df-spinner');\n",
              "          quickchartButtonEl.classList.add('colab-df-quickchart-complete');\n",
              "        }\n",
              "        (() => {\n",
              "          let quickchartButtonEl =\n",
              "            document.querySelector('#df-b212efd9-432f-484b-9e20-0bc21e950922 button');\n",
              "          quickchartButtonEl.style.display =\n",
              "            google.colab.kernel.accessAllowed ? 'block' : 'none';\n",
              "        })();\n",
              "      </script>\n",
              "    </div>\n",
              "\n",
              "  <div id=\"id_833a8ba2-5ff7-435c-824b-fe2ba164e7f3\">\n",
              "    <style>\n",
              "      .colab-df-generate {\n",
              "        background-color: #E8F0FE;\n",
              "        border: none;\n",
              "        border-radius: 50%;\n",
              "        cursor: pointer;\n",
              "        display: none;\n",
              "        fill: #1967D2;\n",
              "        height: 32px;\n",
              "        padding: 0 0 0 0;\n",
              "        width: 32px;\n",
              "      }\n",
              "\n",
              "      .colab-df-generate:hover {\n",
              "        background-color: #E2EBFA;\n",
              "        box-shadow: 0px 1px 2px rgba(60, 64, 67, 0.3), 0px 1px 3px 1px rgba(60, 64, 67, 0.15);\n",
              "        fill: #174EA6;\n",
              "      }\n",
              "\n",
              "      [theme=dark] .colab-df-generate {\n",
              "        background-color: #3B4455;\n",
              "        fill: #D2E3FC;\n",
              "      }\n",
              "\n",
              "      [theme=dark] .colab-df-generate:hover {\n",
              "        background-color: #434B5C;\n",
              "        box-shadow: 0px 1px 3px 1px rgba(0, 0, 0, 0.15);\n",
              "        filter: drop-shadow(0px 1px 2px rgba(0, 0, 0, 0.3));\n",
              "        fill: #FFFFFF;\n",
              "      }\n",
              "    </style>\n",
              "    <button class=\"colab-df-generate\" onclick=\"generateWithVariable('df')\"\n",
              "            title=\"Generate code using this dataframe.\"\n",
              "            style=\"display:none;\">\n",
              "\n",
              "  <svg xmlns=\"http://www.w3.org/2000/svg\" height=\"24px\"viewBox=\"0 0 24 24\"\n",
              "       width=\"24px\">\n",
              "    <path d=\"M7,19H8.4L18.45,9,17,7.55,7,17.6ZM5,21V16.75L18.45,3.32a2,2,0,0,1,2.83,0l1.4,1.43a1.91,1.91,0,0,1,.58,1.4,1.91,1.91,0,0,1-.58,1.4L9.25,21ZM18.45,9,17,7.55Zm-12,3A5.31,5.31,0,0,0,4.9,8.1,5.31,5.31,0,0,0,1,6.5,5.31,5.31,0,0,0,4.9,4.9,5.31,5.31,0,0,0,6.5,1,5.31,5.31,0,0,0,8.1,4.9,5.31,5.31,0,0,0,12,6.5,5.46,5.46,0,0,0,6.5,12Z\"/>\n",
              "  </svg>\n",
              "    </button>\n",
              "    <script>\n",
              "      (() => {\n",
              "      const buttonEl =\n",
              "        document.querySelector('#id_833a8ba2-5ff7-435c-824b-fe2ba164e7f3 button.colab-df-generate');\n",
              "      buttonEl.style.display =\n",
              "        google.colab.kernel.accessAllowed ? 'block' : 'none';\n",
              "\n",
              "      buttonEl.onclick = () => {\n",
              "        google.colab.notebook.generateWithVariable('df');\n",
              "      }\n",
              "      })();\n",
              "    </script>\n",
              "  </div>\n",
              "\n",
              "    </div>\n",
              "  </div>\n"
            ],
            "application/vnd.google.colaboratory.intrinsic+json": {
              "type": "dataframe",
              "variable_name": "df",
              "summary": "{\n  \"name\": \"df\",\n  \"rows\": 2,\n  \"fields\": [\n    {\n      \"column\": \"query\",\n      \"properties\": {\n        \"dtype\": \"string\",\n        \"num_unique_values\": 2,\n        \"samples\": [\n          \"How did automation affect EV production?\",\n          \"Summarize recent energy market stability.\"\n        ],\n        \"semantic_type\": \"\",\n        \"description\": \"\"\n      }\n    },\n    {\n      \"column\": \"latency\",\n      \"properties\": {\n        \"dtype\": \"number\",\n        \"std\": 0.007071067811865475,\n        \"min\": 0.0,\n        \"max\": 0.01,\n        \"num_unique_values\": 2,\n        \"samples\": [\n          0.0,\n          0.01\n        ],\n        \"semantic_type\": \"\",\n        \"description\": \"\"\n      }\n    },\n    {\n      \"column\": \"answer\",\n      \"properties\": {\n        \"dtype\": \"string\",\n        \"num_unique_values\": 2,\n        \"samples\": [\n          \"\\ud83d\\ude97 EV manufacturing efficiency rose 12 % in Q2 due to AI-driven automation.\",\n          \"\\ud83d\\udcc8 AI stock markets show positive momentum driven by strong sentiment and LLM growth signals.\"\n        ],\n        \"semantic_type\": \"\",\n        \"description\": \"\"\n      }\n    }\n  ]\n}"
            }
          },
          "metadata": {},
          "execution_count": 10
        }
      ]
    },
    {
      "cell_type": "code",
      "source": [],
      "metadata": {
        "id": "s3JqjM8PPYFg"
      },
      "execution_count": 10,
      "outputs": []
    }
  ]
}